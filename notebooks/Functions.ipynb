{
 "cells": [
  {
   "cell_type": "code",
   "execution_count": 2,
   "metadata": {},
   "outputs": [
    {
     "ename": "ModuleNotFoundError",
     "evalue": "No module named 'geopy'",
     "output_type": "error",
     "traceback": [
      "\u001b[0;31m---------------------------------------------------------------------------\u001b[0m",
      "\u001b[0;31mModuleNotFoundError\u001b[0m                       Traceback (most recent call last)",
      "Cell \u001b[0;32mIn[2], line 3\u001b[0m\n\u001b[1;32m      1\u001b[0m \u001b[39m#import geopy.geocoders\u001b[39;00m\n\u001b[1;32m      2\u001b[0m \u001b[39mfrom\u001b[39;00m \u001b[39msklearn\u001b[39;00m \u001b[39mimport\u001b[39;00m decomposition\n\u001b[0;32m----> 3\u001b[0m \u001b[39mfrom\u001b[39;00m \u001b[39mgeopy\u001b[39;00m\u001b[39m.\u001b[39;00m\u001b[39mgeocoders\u001b[39;00m \u001b[39mimport\u001b[39;00m Nominatim\n\u001b[1;32m      4\u001b[0m \u001b[39mfrom\u001b[39;00m \u001b[39mgeopy\u001b[39;00m\u001b[39m.\u001b[39;00m\u001b[39mexc\u001b[39;00m \u001b[39mimport\u001b[39;00m GeocoderTimedOut\n\u001b[1;32m      5\u001b[0m \u001b[39mfrom\u001b[39;00m \u001b[39mgeopy\u001b[39;00m \u001b[39mimport\u001b[39;00m distance\n",
      "\u001b[0;31mModuleNotFoundError\u001b[0m: No module named 'geopy'"
     ]
    }
   ],
   "source": [
    "#import geopy.geocoders\n",
    "from sklearn import decomposition\n",
    "#from geopy.geocoders import Nominatim\n",
    "#from geopy.exc import GeocoderTimedOut\n",
    "#from geopy import distance\n",
    "import pandas as pd\n",
    "import requests\n",
    "import os\n",
    "import ssl"
   ]
  },
  {
   "cell_type": "code",
   "execution_count": null,
   "metadata": {},
   "outputs": [],
   "source": [
    "def standardize(n,matrix):\n",
    "    #with Bar('Processing...') as bar:\n",
    "    for i in matrix.columns:\n",
    "        matrix[i] = matrix[i].astype(float)\n",
    "        if matrix[i].mean() != 0 and matrix[i].std() != 0:\n",
    "            matrix[i] = (matrix[i] - matrix[i].mean()) / matrix[i].std()\n",
    "        #sleep(0.02)\n",
    "        #bar.next()\n",
    "        # creaet the ones in the feature space\n",
    "\n",
    "    C = pd.DataFrame(onelistmaker(n), columns=['Const'])\n",
    "    matrix = pd.concat([C, matrix], axis=1)\n",
    "    return matrix"
   ]
  },
  {
   "cell_type": "code",
   "execution_count": null,
   "metadata": {},
   "outputs": [],
   "source": [
    "def standardize1(n,matrix):\n",
    "    C = pd.DataFrame(onelistmaker(n), columns=['Const'])\n",
    "    matrix = pd.concat([C, matrix], axis=1)\n",
    "    return matrix\n",
    "\n",
    "def onlyone(matrix):#check wether every VNB has only one coefficient\n",
    "    for i in range(len(matrix)):\n",
    "        for j in range(len(matrix[0])):\n",
    "            if matrix[i][j] == 1:\n",
    "                for k in range(len(matrix)):\n",
    "                    if matrix[k][j] == 1 and k!=i:\n",
    "                        return False\n",
    "\n",
    "    return True\n"
   ]
  },
  {
   "cell_type": "code",
   "execution_count": null,
   "metadata": {},
   "outputs": [],
   "source": [
    "#make shure all featurs have exactly one coefficient\n",
    "def scratch_double(matrix):\n",
    "\n",
    "    for j in range(len(matrix[0])):\n",
    "        max = matrix[0][j]\n",
    "        for i in range(len(matrix)):\n",
    "            index = 0\n",
    "            if matrix[i][j] < max:\n",
    "                matrix[i][j] = 0\n",
    "            if matrix[i][j] >= max and i != index:\n",
    "                max = matrix[i][j]\n",
    "                matrix[index][j] = 0\n",
    "                index = i\n",
    "\n",
    "    #return set_to_one(matrix)\n",
    "    return matrix #for rolis task"
   ]
  },
  {
   "cell_type": "code",
   "execution_count": null,
   "metadata": {},
   "outputs": [],
   "source": [
    "def set_to_one(matrix):#set non zero coefficients to one\n",
    "    for i in range(len(matrix)):\n",
    "        for j in range(len(matrix[0])):\n",
    "            if matrix[i][j] != 0:\n",
    "                matrix[i][j] = 1\n",
    "\n",
    "    return matrix"
   ]
  },
  {
   "cell_type": "code",
   "execution_count": null,
   "metadata": {},
   "outputs": [],
   "source": [
    "def PCA (X,n):#reduces the number of features to n\n",
    "    #reduzieren auf 80 features\n",
    "    pca = decomposition.PCA(n_components=n)\n",
    "    return  pca.fit_transform(X)"
   ]
  },
  {
   "cell_type": "code",
   "execution_count": null,
   "metadata": {},
   "outputs": [],
   "source": [
    ":#divides the feature space through the squared relative distance to the target (y-value)\n",
    "def reduced(matrix,target,n):\n",
    "    for i in X.columns:\n",
    "        r = distance_to_taget(i,target)\n",
    "        X[i] = X[i]/(r**2)\n",
    "\n",
    "    return PCA(matrix,n)"
   ]
  },
  {
   "cell_type": "code",
   "execution_count": null,
   "metadata": {},
   "outputs": [],
   "source": [
    "#makes an array of ones (const for feature space)\n",
    "def onelistmaker(n):\n",
    "    listofones = [1] * n\n",
    "    return listofones"
   ]
  },
  {
   "cell_type": "code",
   "execution_count": null,
   "metadata": {},
   "outputs": [],
   "source": [
    "#turn a matrix to a df\n",
    "def matrix_to_df(matrix,columns):\n",
    "    df = pd.DataFrame(matrix, columns=columns)\n",
    "    return df"
   ]
  },
  {
   "cell_type": "markdown",
   "metadata": {},
   "source": [
    "creating the feature lookup table for the features"
   ]
  },
  {
   "cell_type": "code",
   "execution_count": null,
   "metadata": {},
   "outputs": [],
   "source": [
    "\n",
    "g = pd.read_excel(r'M:\\Plausibilisierung BLST\\Python Futter\\Distance\\mapping.xlsx')\n",
    "g = g[[\"feature_name\", \"city\"]]\n",
    "#print(g.head())"
   ]
  },
  {
   "attachments": {},
   "cell_type": "markdown",
   "metadata": {},
   "source": [
    "get the distance between to cities"
   ]
  },
  {
   "cell_type": "code",
   "execution_count": null,
   "metadata": {},
   "outputs": [],
   "source": [
    "def distance_to_target(x,y):\n",
    "    geocoder = Nominatim(user_agent='Kai',timeout=10)\n",
    "    city1 = geocoder.geocode(x)\n",
    "    city2 = geocoder.geocode(y)\n",
    "    location2 = (city2.latitude,city2.longitude)\n",
    "    return distance.distance(location1,location2)"
   ]
  },
  {
   "cell_type": "code",
   "execution_count": null,
   "metadata": {},
   "outputs": [],
   "source": [
    "#wurde gebraucht um Bei Grenzleitung Ab und Bez zusammen zu legen\n",
    "def zusammenführen(matrix):\n",
    "    a = 1\n",
    "    #jede zweite spalte aufadieren (beide Richtungen)\n",
    "    for i in matrix.columns:\n",
    "        if a%2 != 0:\n",
    "            temp = matrix[i]\n",
    "        if a%2 == 0:\n",
    "            matrix[i] = matrix[i] + temp\n",
    "        a = a+1\n",
    "\n",
    "    #die ungeraden raus kicken\n",
    "    matrix =  matrix.iloc[:,1:-1:2]\n",
    "\n",
    "    return matrix"
   ]
  },
  {
   "cell_type": "code",
   "execution_count": null,
   "metadata": {},
   "outputs": [],
   "source": [
    "proxies = {\n",
    "   'http': 'spnpr010.domdzs.local:8080',\n",
    "   'https': 'spnpr010.domdzs.local:8080',\n",
    "}\n",
    "url = 'http://nominatim.openstreetmap.org'\n",
    "response = requests.post(url,proxies)\n",
    "print(response)"
   ]
  }
 ],
 "metadata": {
  "kernelspec": {
   "display_name": "Python 3",
   "language": "python",
   "name": "python3"
  },
  "language_info": {
   "codemirror_mode": {
    "name": "ipython",
    "version": 3
   },
   "file_extension": ".py",
   "mimetype": "text/x-python",
   "name": "python",
   "nbconvert_exporter": "python",
   "pygments_lexer": "ipython3",
   "version": "3.10.4"
  },
  "orig_nbformat": 4
 },
 "nbformat": 4,
 "nbformat_minor": 2
}
